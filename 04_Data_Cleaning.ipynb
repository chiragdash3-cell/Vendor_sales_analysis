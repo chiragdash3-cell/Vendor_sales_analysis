{
 "cells": [
  {
   "cell_type": "code",
   "execution_count": 1,
   "id": "ed670c25",
   "metadata": {},
   "outputs": [],
   "source": [
    "import pandas as pd\n",
    "import duckdb\n",
    "\n",
    "conn=duckdb.connect(\"Vendor_sales_analysis/vendor_sales_analysis.duckdb\")"
   ]
  },
  {
   "cell_type": "code",
   "execution_count": 4,
   "id": "65e20db0",
   "metadata": {},
   "outputs": [],
   "source": [
    "vendor_sales_summary=conn.execute(\"select * from vendor_sales_summary\").fetchdf()"
   ]
  },
  {
   "cell_type": "code",
   "execution_count": 5,
   "id": "ec818ecf",
   "metadata": {},
   "outputs": [
    {
     "data": {
      "text/plain": [
       "VendorNumber               int64\n",
       "VendorName                object\n",
       "Brand                      int64\n",
       "Description               object\n",
       "PurchasePrice            float64\n",
       "ActualPrice              float64\n",
       "Volume                    object\n",
       "TotalPurchaseQuantity    float64\n",
       "TotalPurchaseDollars     float64\n",
       "TotalSalesQuantity       float64\n",
       "TotalSalesDollars        float64\n",
       "TotalSalesPrice          float64\n",
       "TotalExciseTax           float64\n",
       "FreightCost              float64\n",
       "dtype: object"
      ]
     },
     "execution_count": 5,
     "metadata": {},
     "output_type": "execute_result"
    }
   ],
   "source": [
    "vendor_sales_summary.dtypes"
   ]
  },
  {
   "cell_type": "code",
   "execution_count": null,
   "id": "4dae330b",
   "metadata": {},
   "outputs": [
    {
     "data": {
      "text/plain": [
       "VendorNumber               0\n",
       "VendorName                 0\n",
       "Brand                      0\n",
       "Description                0\n",
       "PurchasePrice              0\n",
       "ActualPrice                0\n",
       "Volume                     0\n",
       "TotalPurchaseQuantity      0\n",
       "TotalPurchaseDollars       0\n",
       "TotalSalesQuantity       178\n",
       "TotalSalesDollars        178\n",
       "TotalSalesPrice          178\n",
       "TotalExciseTax           178\n",
       "FreightCost                0\n",
       "dtype: int64"
      ]
     },
     "execution_count": 6,
     "metadata": {},
     "output_type": "execute_result"
    }
   ],
   "source": [
    "vendor_sales_summary.isnull().sum() ## Null values present"
   ]
  },
  {
   "cell_type": "code",
   "execution_count": 7,
   "id": "3fb786f5",
   "metadata": {},
   "outputs": [
    {
     "data": {
      "text/plain": [
       "array(['1750', '750', '1000', '1500', '375', '50', '3000', '5000', '100',\n",
       "       '200', '4000', '187', '500', '600', '300', '1100', '250', '400',\n",
       "       '18000', '150', '720', '330', '162.5', '180', '19500', '6000',\n",
       "       '560', '20000', '9000', '3750', '650'], dtype=object)"
      ]
     },
     "execution_count": 7,
     "metadata": {},
     "output_type": "execute_result"
    }
   ],
   "source": [
    "vendor_sales_summary['Volume'].unique()"
   ]
  },
  {
   "cell_type": "code",
   "execution_count": null,
   "id": "820528cd",
   "metadata": {},
   "outputs": [
    {
     "data": {
      "text/plain": [
       "array(['BROWN-FORMAN CORP          ', 'MARTIGNETTI COMPANIES',\n",
       "       'PERNOD RICARD USA          ', 'DIAGEO NORTH AMERICA INC   ',\n",
       "       'BACARDI USA INC            ', 'JIM BEAM BRANDS COMPANY    ',\n",
       "       'MAJESTIC FINE WINES        ', 'ULTRA BEVERAGE COMPANY LLP ',\n",
       "       'STOLI GROUP,(USA) LLC      ', 'PROXIMO SPIRITS INC.       ',\n",
       "       'MOET HENNESSY USA INC      ', 'CAMPARI AMERICA            ',\n",
       "       'SAZERAC CO INC             ', 'CONSTELLATION BRANDS INC   ',\n",
       "       'M S WALKER INC             ', 'SAZERAC NORTH AMERICA INC. ',\n",
       "       'PALM BAY INTERNATIONAL INC ', 'REMY COINTREAU USA INC     ',\n",
       "       'SIDNEY FRANK IMPORTING CO  ', 'E & J GALLO WINERY         ',\n",
       "       'WILLIAM GRANT & SONS INC   ', 'HEAVEN HILL DISTILLERIES   ',\n",
       "       'DISARONNO INTERNATIONAL LLC', 'EDRINGTON AMERICAS         ',\n",
       "       'CASTLE BRANDS CORP.        ', 'SOUTHERN WINE & SPIRITS NE ',\n",
       "       'STE MICHELLE WINE ESTATES  ', 'TRINCHERO FAMILY ESTATES   ',\n",
       "       'MHW LTD                    ', 'WINE GROUP INC             ',\n",
       "       'PERFECTA WINES             ', 'LUXCO INC                  ',\n",
       "       'TREASURY WINE ESTATES      ', 'DIAGEO CHATEAU ESTATE WINES',\n",
       "       'SHAW ROSS INT L IMP LTD    ', 'PINE STATE TRADING CO      ',\n",
       "       'PHILLIPS PRODUCTS CO.      ', 'CALEDONIA SPIRITS INC      ',\n",
       "       'STATE WINE & SPIRITS   ', 'KOBRAND CORPORATION        ',\n",
       "       'BANFI PRODUCTS CORP        ', 'VINEYARD BRANDS INC        ',\n",
       "       'DELICATO VINEYARDS INC     ', 'FABRIZIA SPIRITS LLC       ',\n",
       "       'DUGGANS DISTILLED PRODUCTS ', 'Serralles Usa LLC          ',\n",
       "       'SEA HAGG DISTILLERY LLC    ', 'OLE SMOKY DISTILLERY LLC   ',\n",
       "       'VRANKEN AMERICA            ', 'KLIN SPIRITS LLC           ',\n",
       "       'LAIRD & CO                 ', 'ADAMBA IMPORTS INTL INC    ',\n",
       "       'LATITUDE BEVERAGE COMPANY  ', 'FREDERICK WILDMAN & SONS   ',\n",
       "       'MCCORMICK DISTILLING CO    ', 'CHARLES JACQUIN ET CIE INC ',\n",
       "       'WESTERN SPIRITS BEVERAGE CO', 'MARSALLE COMPANY           ',\n",
       "       'AMERICAN VINTAGE BEVERAGE  ', 'MANGO BOTTLING INC         ',\n",
       "       'SWEET BABY VINEYARD        ', 'NICHE W & S                ',\n",
       "       'LABELLE VYDS AND WINERY    ', 'FLAG HILL WINERY & VINEYARD',\n",
       "       'SMOKY QUARTZ DISTILLERY LLC', 'PREMIUM PORT WINES, INC.   ',\n",
       "       'Russian Standard Vodka     ', 'Dunn Wine Brokers          ',\n",
       "       'WEIN BAUER INC             ', 'BULLY BOY DISTILLERS       ',\n",
       "       'ATLANTIC IMPORTING COMPANY ', 'PREMIER DISTRIBUTORS       ',\n",
       "       'VINILANDIA USA             ', 'PARK STREET IMPORTS LLC    ',\n",
       "       'TAKARA SAKE USA INC        ', 'SEA BREEZE CELLARS LLC     ',\n",
       "       'STARK BREWING COMPANY      ', 'TY KU LLC                  ',\n",
       "       'PSP WINES ', 'TAMWORTH DISTILLING        ',\n",
       "       'ZORVINO VINEYARDS          ', 'SOUTHERN GLAZERS W&S OF NE ',\n",
       "       'HOOD RIVER DISTILLERS, Inc.', 'CRUSH WINES                ',\n",
       "       'POVERTY LANE ORCHARDS      ', 'DJINN SPIRITS LLC          ',\n",
       "       'MOONLIGHT MEADERY          ', 'TALL SHIP DISTILLERY LLC   ',\n",
       "       'FORTUNE WINE BROKERS LLC   ', 'BLACK COVE BEVERAGES       ',\n",
       "       'VINEXTRA INC               ', 'SURVILLE ENTERPRISES CORP  ',\n",
       "       'JEWELL TOWNE VINEYARDS     ', 'SWEETWATER FARM         ',\n",
       "       'MARTIGNETTI COMPANIES ', 'ALTAMAR BRANDS LLC         ',\n",
       "       'CANDIA VINEYARDS           ', 'INCREDIBREW INC            ',\n",
       "       'ALISA CARR BEVERAGES           ', 'STELLAR IMPORTING CO LLC   ',\n",
       "       'FULCHINO VINEYARD INC      ',\n",
       "       'IRA GOLDMAN AND WILLIAMS, LLP          ',\n",
       "       'Circa Wines                ', 'VINEDREA WINES LLC         ',\n",
       "       'BLACK PRINCE DISTILLERY INC', 'VINEYARD BRANDS LLC        ',\n",
       "       'THE IMPORTED GRAPE LLC     ', 'WALPOLE MTN VIEW WINERY    ',\n",
       "       'GILMANTON WINERY & VINEYARD', 'HAUNTING WHISPER VYDS      ',\n",
       "       'STAR INDUSTRIES INC.       ', 'LOYAL DOG WINERY           ',\n",
       "       'R.P.IMPORTS INC            ', 'THE PIERPONT GROUP LLC     ',\n",
       "       'APPOLO VINEYARDS LLC       ', 'BLACK ROCK SPIRITS LLC     ',\n",
       "       'CENTEUR IMPORTS LLC        ', 'HIGHLAND WINE MERCHANTS LLC',\n",
       "       'AMERICAN SPIRITS EXCHANGE  ', 'UNCORKED       ',\n",
       "       'BRONCO WINE COMPANY        ', 'MILTONS DISTRIBUTING CO    ',\n",
       "       'TRUETT HURST               ', 'LAUREATE IMPORTS CO        ',\n",
       "       'FANTASY FINE WINES CORP    ', 'AAPER ALCOHOL & CHEMICAL CO',\n",
       "       'SILVER MOUNTAIN CIDERS     ', 'CAPSTONE INTERNATIONAL     ',\n",
       "       'FLAVOR ESSENCE INC         '], dtype=object)"
      ]
     },
     "execution_count": 8,
     "metadata": {},
     "output_type": "execute_result"
    }
   ],
   "source": [
    "vendor_sales_summary['VendorName'].unique() ##We can see the irregular spaces"
   ]
  },
  {
   "cell_type": "code",
   "execution_count": 9,
   "id": "cfc30b9a",
   "metadata": {},
   "outputs": [],
   "source": [
    "# creating new columns for better analysis\n",
    "vendor_sales_summary['GrossProfit'] = vendor_sales_summary['TotalSalesDollars'] - vendor_sales_summary['TotalPurchaseDollars']\n",
    "vendor_sales_summary['ProfitMargin'] = (vendor_sales_summary['GrossProfit'] / vendor_sales_summary['TotalSalesDollars'])*100\n",
    "vendor_sales_summary['StockTurnover'] = vendor_sales_summary['TotalSalesQuantity'] / vendor_sales_summary['TotalPurchaseQuantity']\n",
    "vendor_sales_summary['SalesToPurchaseRatio'] = vendor_sales_summary['TotalSalesDollars'] / vendor_sales_summary['TotalPurchaseDollars']"
   ]
  },
  {
   "cell_type": "code",
   "execution_count": 10,
   "id": "a99550b9",
   "metadata": {},
   "outputs": [],
   "source": [
    "# changing datatype to float\n",
    "vendor_sales_summary['Volume'] = vendor_sales_summary['Volume'].astype('float')\n",
    "\n",
    "# filling missing value with 0\n",
    "vendor_sales_summary.fillna(0,inplace = True)\n",
    "\n",
    "# removing spaces from categorical columns\n",
    "vendor_sales_summary['VendorName'] = vendor_sales_summary['VendorName'].str.strip()\n",
    "vendor_sales_summary['Description'] = vendor_sales_summary['Description'].str.strip()"
   ]
  },
  {
   "cell_type": "code",
   "execution_count": null,
   "id": "941321a3",
   "metadata": {},
   "outputs": [
    {
     "data": {
      "text/plain": [
       "<duckdb.duckdb.DuckDBPyConnection at 0x23ed210afb0>"
      ]
     },
     "execution_count": 11,
     "metadata": {},
     "output_type": "execute_result"
    }
   ],
   "source": [
    "conn.register(\"df_view\", vendor_sales_summary)  ## Replacing the old vendor_sales_summary table with the cleaned one\n",
    "conn.execute(\"CREATE OR REPLACE TABLE vendor_sales_summary AS SELECT * FROM df_view\")"
   ]
  },
  {
   "cell_type": "code",
   "execution_count": null,
   "id": "d80fd1bd",
   "metadata": {},
   "outputs": [],
   "source": [
    "vendor_sales_summary=conn.execute(\"select * from vendor_sales_summary\").fetchdf() ## New vendor_sales_summary table after cleaning"
   ]
  },
  {
   "cell_type": "code",
   "execution_count": null,
   "id": "5b695e56",
   "metadata": {},
   "outputs": [
    {
     "data": {
      "text/plain": [
       "VendorNumber             0\n",
       "VendorName               0\n",
       "Brand                    0\n",
       "Description              0\n",
       "PurchasePrice            0\n",
       "ActualPrice              0\n",
       "Volume                   0\n",
       "TotalPurchaseQuantity    0\n",
       "TotalPurchaseDollars     0\n",
       "TotalSalesQuantity       0\n",
       "TotalSalesDollars        0\n",
       "TotalSalesPrice          0\n",
       "TotalExciseTax           0\n",
       "FreightCost              0\n",
       "GrossProfit              0\n",
       "ProfitMargin             0\n",
       "StockTurnover            0\n",
       "SalesToPurchaseRatio     0\n",
       "dtype: int64"
      ]
     },
     "execution_count": 13,
     "metadata": {},
     "output_type": "execute_result"
    }
   ],
   "source": [
    "vendor_sales_summary.isnull().sum() ## No missing values now"
   ]
  }
 ],
 "metadata": {
  "kernelspec": {
   "display_name": "Python 3",
   "language": "python",
   "name": "python3"
  },
  "language_info": {
   "codemirror_mode": {
    "name": "ipython",
    "version": 3
   },
   "file_extension": ".py",
   "mimetype": "text/x-python",
   "name": "python",
   "nbconvert_exporter": "python",
   "pygments_lexer": "ipython3",
   "version": "3.13.3"
  }
 },
 "nbformat": 4,
 "nbformat_minor": 5
}
