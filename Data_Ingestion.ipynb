{
 "cells": [
  {
   "cell_type": "code",
   "execution_count": null,
   "id": "719a1a3d",
   "metadata": {},
   "outputs": [
    {
     "name": "stdout",
     "output_type": "stream",
     "text": [
      "Loading begin_inventory.csv into table begin_inventory...\n",
      "Loading end_inventory.csv into table end_inventory...\n",
      "Loading purchase_prices.csv into table purchase_prices...\n",
      "Loading purchases.csv into table purchases...\n",
      "Loading sales.csv into table sales...\n",
      "Loading vendor_invoice.csv into table vendor_invoice...\n",
      "✅ All CSVs loaded into DuckDB!\n"
     ]
    }
   ],
   "source": [
    "import duckdb\n",
    "import os\n",
    "import glob\n",
    "\n",
    "db_path=\"Vendor_sales_analysis/vendor_sales_analysis.duckdb\"\n",
    "conn= duckdb.connect(db_path)\n",
    "\n",
    "raw_data_path=\"Vendor_sales_analysis/Data\"\n",
    "\n",
    "csv_files = [ \"begin_inventory.csv\", \"end_inventory.csv\", \"purchase_prices.csv\", \"purchases.csv\", \"sales.csv\", \"vendor_invoice.csv\" ]\n",
    "for csv_file in csv_files:\n",
    "    table_name = os.path.splitext(csv_file)[0]  # remove \".csv\"\n",
    "    csv_path = os.path.join(raw_data_path, csv_file)\n",
    "    \n",
    "    print(f\"Loading {csv_file} into table {table_name}...\")\n",
    "    \n",
    "    conn.execute(f\"\"\"\n",
    "        CREATE OR REPLACE TABLE {table_name} AS\n",
    "        SELECT * FROM '{csv_path}'\n",
    "    \"\"\")\n",
    "\n",
    "print(\"✅ All CSVs loaded into DuckDB!\")\n",
    "\n",
    "    \n"
   ]
  }
 ],
 "metadata": {
  "kernelspec": {
   "display_name": "Python 3",
   "language": "python",
   "name": "python3"
  },
  "language_info": {
   "codemirror_mode": {
    "name": "ipython",
    "version": 3
   },
   "file_extension": ".py",
   "mimetype": "text/x-python",
   "name": "python",
   "nbconvert_exporter": "python",
   "pygments_lexer": "ipython3",
   "version": "3.13.3"
  }
 },
 "nbformat": 4,
 "nbformat_minor": 5
}
